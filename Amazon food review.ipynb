{
 "cells": [
  {
   "cell_type": "markdown",
   "id": "aaf6ca33",
   "metadata": {},
   "source": [
    "#### Problem Description\n",
    "- This dataset consists of reviews of fine foods from amazon. \n",
    "- what we want here is to make a model which classify every review and print an output saying that it's a positive review or negative review and we will use streamlit framework which is useful to create and share web data apps"
   ]
  },
  {
   "cell_type": "markdown",
   "id": "a6026741",
   "metadata": {},
   "source": [
    "#### Import Packages"
   ]
  },
  {
   "cell_type": "code",
   "execution_count": null,
   "id": "cbaf223a",
   "metadata": {},
   "outputs": [],
   "source": [
    "# Add environment Packages paths to conda\n",
    "import os, sys\n",
    "# env_name = \"food_review\"\n",
    "# sys.path.append(f\"C:\\\\Environments\\\\{env_name}\\\\lib\\\\site-packages\\\\\")\n",
    "\n",
    "import pandas as pd\n",
    "import numpy as np\n",
    "\n",
    "# Text preprocessing packages\n",
    "import nltk # Text libarary\n",
    "# nltk.download('stopwords')\n",
    "import string # Removing special characters {#, @, ...}\n",
    "import re # Regex Package\n",
    "\n",
    "# Corpora is a group presenting multiple collections of text documents. A single collection is called corpus.\n",
    "nltk.download('stopwords')\n",
    "\n",
    "nltk.download('wordnet')\n",
    "nltk.download('omw-1.4') # Stemmer & Lemmatizer\n",
    "#from gensim.utils import simple_preprocess  # Text ==> List of Tokens\n",
    "\n",
    "# Text Embedding\n",
    "from sklearn.feature_extraction.text import TfidfVectorizer\n",
    "\n",
    "# Modelling\n",
    "from sklearn.model_selection import train_test_split\n",
    "from sklearn.ensemble import RandomForestClassifier\n",
    "from sklearn.metrics import accuracy_score\n",
    "\n",
    "# Saving Model\n",
    "import pickle\n",
    "\n",
    "# Visualization Packages\n",
    "import seaborn as sns\n",
    "import matplotlib.pyplot as plt\n",
    "sns.set(font_scale=1.3)\n",
    "%matplotlib inline"
   ]
  },
  {
   "cell_type": "markdown",
   "id": "1d6c1bc6",
   "metadata": {},
   "source": [
    "#### Read Dataset"
   ]
  },
  {
   "cell_type": "code",
   "execution_count": 15,
   "id": "a84a0322",
   "metadata": {},
   "outputs": [
    {
     "data": {
      "text/html": [
       "<div>\n",
       "<style scoped>\n",
       "    .dataframe tbody tr th:only-of-type {\n",
       "        vertical-align: middle;\n",
       "    }\n",
       "\n",
       "    .dataframe tbody tr th {\n",
       "        vertical-align: top;\n",
       "    }\n",
       "\n",
       "    .dataframe thead th {\n",
       "        text-align: right;\n",
       "    }\n",
       "</style>\n",
       "<table border=\"1\" class=\"dataframe\">\n",
       "  <thead>\n",
       "    <tr style=\"text-align: right;\">\n",
       "      <th></th>\n",
       "      <th>Text</th>\n",
       "      <th>Score</th>\n",
       "    </tr>\n",
       "  </thead>\n",
       "  <tbody>\n",
       "    <tr>\n",
       "      <th>0</th>\n",
       "      <td>I have bought several of the Vitality canned d...</td>\n",
       "      <td>5</td>\n",
       "    </tr>\n",
       "    <tr>\n",
       "      <th>1</th>\n",
       "      <td>Product arrived labeled as Jumbo Salted Peanut...</td>\n",
       "      <td>1</td>\n",
       "    </tr>\n",
       "    <tr>\n",
       "      <th>2</th>\n",
       "      <td>This is a confection that has been around a fe...</td>\n",
       "      <td>4</td>\n",
       "    </tr>\n",
       "    <tr>\n",
       "      <th>3</th>\n",
       "      <td>If you are looking for the secret ingredient i...</td>\n",
       "      <td>2</td>\n",
       "    </tr>\n",
       "    <tr>\n",
       "      <th>4</th>\n",
       "      <td>Great taffy at a great price.  There was a wid...</td>\n",
       "      <td>5</td>\n",
       "    </tr>\n",
       "  </tbody>\n",
       "</table>\n",
       "</div>"
      ],
      "text/plain": [
       "                                                Text  Score\n",
       "0  I have bought several of the Vitality canned d...      5\n",
       "1  Product arrived labeled as Jumbo Salted Peanut...      1\n",
       "2  This is a confection that has been around a fe...      4\n",
       "3  If you are looking for the secret ingredient i...      2\n",
       "4  Great taffy at a great price.  There was a wid...      5"
      ]
     },
     "execution_count": 15,
     "metadata": {},
     "output_type": "execute_result"
    }
   ],
   "source": [
    "df = pd.read_csv('/Users/yunzhetan/Downloads/220619060118618 2/Reviews.csv', delimiter=',', nrows = nRowsRead)\n",
    "cols = ['Text', 'Score']\n",
    "df_text = df[cols].copy()\n",
    "df_text.head()"
   ]
  },
  {
   "cell_type": "markdown",
   "id": "1aafc95b",
   "metadata": {},
   "source": [
    "#### Drop Duplicates\n",
    "Save the Cleaned data-frame also with the variable df_text"
   ]
  },
  {
   "cell_type": "code",
   "execution_count": 16,
   "id": "dff1934b",
   "metadata": {},
   "outputs": [
    {
     "data": {
      "text/plain": [
       "3"
      ]
     },
     "execution_count": 16,
     "metadata": {},
     "output_type": "execute_result"
    }
   ],
   "source": [
    "df_text.duplicated().sum()"
   ]
  },
  {
   "cell_type": "code",
   "execution_count": 17,
   "id": "6854b8c8",
   "metadata": {},
   "outputs": [],
   "source": [
    "df_text.drop_duplicates(inplace=True)\n",
    "df_text.reset_index(drop=True,inplace=True)"
   ]
  },
  {
   "cell_type": "code",
   "execution_count": 18,
   "id": "085e075c",
   "metadata": {},
   "outputs": [
    {
     "data": {
      "text/plain": [
       "0"
      ]
     },
     "execution_count": 18,
     "metadata": {},
     "output_type": "execute_result"
    }
   ],
   "source": [
    "df_text.duplicated().sum()"
   ]
  },
  {
   "cell_type": "markdown",
   "id": "8e92f77d",
   "metadata": {},
   "source": [
    "#### Target Variable Pre-Processing\n",
    "target will be\n",
    "- 0 if score < 3\n",
    "- 1 otherwise"
   ]
  },
  {
   "cell_type": "code",
   "execution_count": 19,
   "id": "a0f615dd",
   "metadata": {},
   "outputs": [],
   "source": [
    "df_text['target'] = [0 if i <3  else 1 for i in df_text.Score ]"
   ]
  },
  {
   "cell_type": "markdown",
   "id": "c9c74a9d",
   "metadata": {},
   "source": [
    "#### Plot Countplot for target Variable"
   ]
  },
  {
   "cell_type": "code",
   "execution_count": 20,
   "id": "ccee2bdc",
   "metadata": {},
   "outputs": [
    {
     "name": "stderr",
     "output_type": "stream",
     "text": [
      "/Users/yunzhetan/opt/anaconda3/lib/python3.9/site-packages/seaborn/_decorators.py:36: FutureWarning: Pass the following variable as a keyword arg: x. From version 0.12, the only valid positional argument will be `data`, and passing other arguments without an explicit keyword will result in an error or misinterpretation.\n",
      "  warnings.warn(\n"
     ]
    },
    {
     "data": {
      "text/plain": [
       "<AxesSubplot:xlabel='target', ylabel='count'>"
      ]
     },
     "execution_count": 20,
     "metadata": {},
     "output_type": "execute_result"
    },
    {
     "data": {
      "image/png": "[encoded data removed]",
      "text/plain": [
       "<Figure size 432x288 with 1 Axes>"
      ]
     },
     "metadata": {
      "needs_background": "light"
     },
     "output_type": "display_data"
    }
   ],
   "source": [
    "sns.countplot(df_text['target'][:10000])"
   ]
  },
  {
   "cell_type": "markdown",
   "id": "1a32ce02",
   "metadata": {},
   "source": [
    "Notice how such variance is huge, then we need to down-sample such data by which both the positive and negative classes are balanced."
   ]
  },
  {
   "cell_type": "markdown",
   "id": "20c551b8",
   "metadata": {},
   "source": [
    "#### Balance Data Target"
   ]
  },
  {
   "cell_type": "code",
   "execution_count": 21,
   "id": "df4740f9",
   "metadata": {},
   "outputs": [],
   "source": [
    "# Sample from positive reviews Same number of negative reviews\n",
    "\n",
    "#NEG_N it will store the size of negative reviews or zeros on the data frame\n",
    "NEG_N = df_text.target.value_counts()[0]\n",
    "#so, df_pos contains the positive reviews text or text with value equals to 1 in target\n",
    "df_pos = df_text[df_text['target'] == 1]['Text'].sample(NEG_N, replace=False)\n",
    "#now we will make a new dataframe where the size of positive reviews is same as the size of negative reviews\n",
    "df_text_balanced = pd.concat([df_text.iloc[df_pos.index], df_text[df_text.target == 0]])\n",
    "df_text_balanced.reset_index(drop=True,inplace=True)"
   ]
  },
  {
   "cell_type": "code",
   "execution_count": 22,
   "id": "2a4db4d4",
   "metadata": {},
   "outputs": [
    {
     "name": "stderr",
     "output_type": "stream",
     "text": [
      "/Users/yunzhetan/opt/anaconda3/lib/python3.9/site-packages/seaborn/_decorators.py:36: FutureWarning: Pass the following variable as a keyword arg: x. From version 0.12, the only valid positional argument will be `data`, and passing other arguments without an explicit keyword will result in an error or misinterpretation.\n",
      "  warnings.warn(\n"
     ]
    },
    {
     "data": {
      "text/plain": [
       "(0.0, 1500.0)"
      ]
     },
     "execution_count": 22,
     "metadata": {},
     "output_type": "execute_result"
    },
    {
     "data": {
      "image/png": "[encoded data removed]",
      "text/plain": [
       "<Figure size 432x288 with 1 Axes>"
      ]
     },
     "metadata": {
      "needs_background": "light"
     },
     "output_type": "display_data"
    }
   ],
   "source": [
    "sns.countplot(df_text_balanced['target'])\n",
    "plt.ylim(0,1500)"
   ]
  },
  {
   "cell_type": "markdown",
   "id": "ec7daa4d",
   "metadata": {},
   "source": [
    "#### Text Pre-Processing"
   ]
  },
  {
   "cell_type": "code",
   "execution_count": 25,
   "id": "76e5076a",
   "metadata": {},
   "outputs": [
    {
     "name": "stderr",
     "output_type": "stream",
     "text": [
      "[nltk_data] Downloading package stopwords to\n",
      "[nltk_data]     /Users/yunzhetan/nltk_data...\n",
      "[nltk_data]   Unzipping corpora/stopwords.zip.\n"
     ]
    }
   ],
   "source": [
    "stop_words = list(stopwords.words('english'))\n",
    "stemmer = SnowballStemmer(\"english\")\n",
    "lemmatizer= WordNetLemmatizer()"
   ]
  },
  {
   "cell_type": "code",
   "execution_count": 26,
   "id": "a34a3ab9",
   "metadata": {},
   "outputs": [],
   "source": [
    "stop_words.remove('not')\n",
    "for i in stop_words:\n",
    "    if \"n't\" or \"n'\" in i:\n",
    "        stop_words.remove(i)"
   ]
  },
  {
   "cell_type": "code",
   "execution_count": 29,
   "id": "57d4bc56",
   "metadata": {},
   "outputs": [
    {
     "name": "stderr",
     "output_type": "stream",
     "text": [
      "[nltk_data] Downloading package wordnet to\n",
      "[nltk_data]     /Users/yunzhetan/nltk_data...\n",
      "[nltk_data]   Package wordnet is already up-to-date!\n",
      "[nltk_data] Downloading package omw-1.4 to\n",
      "[nltk_data]     /Users/yunzhetan/nltk_data...\n",
      "[nltk_data]   Unzipping corpora/omw-1.4.zip.\n"
     ]
    }
   ],
   "source": [
    "def cleaning_text(Text):\n",
    "    #Removing Stop Words\n",
    "    Text=[i for i in str(Text).split() if i not in stop_words]\n",
    "    \n",
    "    #Removing special characters\n",
    "    Text=[re.sub('[^A-Za-z0-9]+', '', str(i)) for i in Text]\n",
    "\n",
    "\n",
    "    #lemmatizing each word\n",
    "    Text=[lemmatizer.lemmatize(y) for y in Text]\n",
    "    #print(Text)\n",
    "\n",
    "    #stemming each word\n",
    "    Text=[stemmer.stem(y) for y in Text]\n",
    "    \n",
    "    str1 = \" \" \n",
    "    Cleaned_Text=str1.join(Text)\n",
    "    #Remove numbers\n",
    "    Cleaned_Text=''.join([i for i in Cleaned_Text if not i.isdigit()])\n",
    "    # return string  \n",
    "    return (Cleaned_Text)\n",
    "    \n",
    "    \n",
    "df_text_balanced.Text=df_text_balanced.Text.apply(lambda text : cleaning_text(text))"
   ]
  },
  {
   "cell_type": "markdown",
   "id": "27b6d3de",
   "metadata": {},
   "source": [
    "#### Split Test & Training Data"
   ]
  },
  {
   "cell_type": "code",
   "execution_count": 30,
   "id": "10e15763",
   "metadata": {},
   "outputs": [],
   "source": [
    "X = df_text_balanced.iloc[:, 0].values\n",
    "y = df_text_balanced.iloc[:, -1].values\n",
    "X_train, X_test, y_train, y_test = train_test_split(X, y, test_size=0.3, random_state=42)"
   ]
  },
  {
   "cell_type": "markdown",
   "id": "bd1e8348",
   "metadata": {},
   "source": [
    "#### Text Embedding\n",
    "- Use TfidfVectorizer\n",
    "- fit on the training data only\n",
    "- transform on training and test"
   ]
  },
  {
   "cell_type": "code",
   "execution_count": 31,
   "id": "71fb3bf9",
   "metadata": {},
   "outputs": [],
   "source": [
    "## TFIDF embedding for the Description\n",
    "vectorizer = TfidfVectorizer() ## Write your code here\n",
    "# fit on training (such vectorizer will be saved for deployment)\n",
    "vectorizer.fit(X_train)\n",
    "# transform on training data\n",
    "X_train = vectorizer.fit_transform(X_train)\n",
    "# transform on testing data\n",
    "X_test = vectorizer.transform(X_test)"
   ]
  },
  {
   "cell_type": "code",
   "execution_count": 32,
   "id": "ab40ac99",
   "metadata": {},
   "outputs": [
    {
     "data": {
      "text/plain": [
       "((203, 2258), (87, 2258))"
      ]
     },
     "execution_count": 32,
     "metadata": {},
     "output_type": "execute_result"
    }
   ],
   "source": [
    "# See the dimensions of your data embeddings before entering to the model\n",
    "X_train.shape,X_test.shape"
   ]
  },
  {
   "cell_type": "markdown",
   "id": "fcedc796",
   "metadata": {},
   "source": [
    "#### Modelling"
   ]
  },
  {
   "cell_type": "code",
   "execution_count": 33,
   "id": "ae7f1b67",
   "metadata": {},
   "outputs": [],
   "source": [
    "from sklearn.linear_model import LogisticRegression\n",
    "from sklearn.metrics import accuracy_score"
   ]
  },
  {
   "cell_type": "markdown",
   "id": "1a0bc87e",
   "metadata": {},
   "source": [
    "Sklearn framework steps\n",
    "- init\n",
    "- fit\n",
    "- predict"
   ]
  },
  {
   "cell_type": "code",
   "execution_count": 34,
   "id": "06b9873d",
   "metadata": {},
   "outputs": [
    {
     "name": "stdout",
     "output_type": "stream",
     "text": [
      "Model Accuracy = 66.67%\n"
     ]
    }
   ],
   "source": [
    "## initialize your Model\n",
    "clf = LogisticRegression(solver='liblinear')\n",
    "\n",
    "# Fit your Model on the Training Dataset\n",
    "clf.fit(X_train, y_train)\n",
    "\n",
    "# Predict on Test data\n",
    "preds =  clf.predict(X_test)\n",
    "\n",
    "# Calculate Model Accuracy\n",
    "acc = accuracy_score(preds, y_test)\n",
    "print(f\"Model Accuracy = {round(acc*100,2)}%\")"
   ]
  },
  {
   "cell_type": "code",
   "execution_count": 35,
   "id": "61c081b4",
   "metadata": {},
   "outputs": [
    {
     "data": {
      "text/plain": [
       "(31, 9, 20, 27)"
      ]
     },
     "execution_count": 35,
     "metadata": {},
     "output_type": "execute_result"
    }
   ],
   "source": [
    "#we will make a confusion matrix\n",
    "from sklearn.metrics import confusion_matrix\n",
    "tn, fp, fn, tp = confusion_matrix(y_test, preds).ravel()\n",
    "tn, fp, fn, tp"
   ]
  },
  {
   "cell_type": "markdown",
   "id": "fc02c1e6",
   "metadata": {},
   "source": [
    "#### Raw Instance Prediction"
   ]
  },
  {
   "cell_type": "code",
   "execution_count": 37,
   "id": "ba6ee599",
   "metadata": {},
   "outputs": [],
   "source": [
    "def raw_test(review, model, vectorizer):\n",
    "    # Clean Review\n",
    "    review_c = cleaning_text(review)\n",
    "    # Embed review using tf-idf vectorizer\n",
    "    embedding = vectorizer.transform([review_c])\n",
    "    # Predict using your model\n",
    "    prediction = model.predict(embedding)\n",
    "    # Return the Sentiment Prediction\n",
    "    return \"Positive\" if prediction == 1 else \"Negative\""
   ]
  },
  {
   "cell_type": "code",
   "execution_count": 38,
   "id": "fade3fad",
   "metadata": {},
   "outputs": [],
   "source": [
    "review_1 = \"That's a good Dish, Good Job\"\n",
    "review_2 = \"That's the worst Dish ever tasted\""
   ]
  },
  {
   "cell_type": "code",
   "execution_count": 39,
   "id": "36ec1035",
   "metadata": {},
   "outputs": [
    {
     "data": {
      "text/plain": [
       "'Positive'"
      ]
     },
     "execution_count": 39,
     "metadata": {},
     "output_type": "execute_result"
    }
   ],
   "source": [
    "raw_test(review_1, clf, vectorizer)"
   ]
  },
  {
   "cell_type": "code",
   "execution_count": 40,
   "id": "6e007523",
   "metadata": {},
   "outputs": [
    {
     "data": {
      "text/plain": [
       "'Negative'"
      ]
     },
     "execution_count": 40,
     "metadata": {},
     "output_type": "execute_result"
    }
   ],
   "source": [
    "raw_test(review_2, clf, vectorizer)"
   ]
  },
  {
   "cell_type": "markdown",
   "id": "666fc28f",
   "metadata": {},
   "source": [
    "#### Saving Models for Deployment"
   ]
  },
  {
   "cell_type": "code",
   "execution_count": 42,
   "id": "ed01cf04",
   "metadata": {},
   "outputs": [],
   "source": [
    "import pickle"
   ]
  },
  {
   "cell_type": "code",
   "execution_count": 43,
   "id": "fd2ac329",
   "metadata": {},
   "outputs": [],
   "source": [
    "model_name = 'rf_model.pk'\n",
    "vectorizer_name = 'tfidf_vectorizer.pk'\n",
    "model_path = os.path.join('/', model_name)\n",
    "vect_path = os.path.join('/', vectorizer_name)\n",
    "\n",
    "pickle.dump(clf, open(model_name, 'wb'))\n",
    "pickle.dump(vectorizer, open(vectorizer_name, 'wb'))"
   ]
  },
  {
   "cell_type": "markdown",
   "id": "de3722ab",
   "metadata": {},
   "source": [
    "#### Load model Again and test them"
   ]
  },
  {
   "cell_type": "code",
   "execution_count": 44,
   "id": "5b380a8a",
   "metadata": {},
   "outputs": [],
   "source": [
    "loaded_model = pickle.load(open(model_name, 'rb'))\n",
    "loaded_vect = pickle.load(open(vectorizer_name, 'rb'))"
   ]
  },
  {
   "cell_type": "code",
   "execution_count": 45,
   "id": "f2dc2c66",
   "metadata": {},
   "outputs": [
    {
     "data": {
      "text/plain": [
       "'Positive'"
      ]
     },
     "execution_count": 45,
     "metadata": {},
     "output_type": "execute_result"
    }
   ],
   "source": [
    "raw_test(review_1, loaded_model, loaded_vect)"
   ]
  },
  {
   "cell_type": "code",
   "execution_count": 46,
   "id": "439c77dd",
   "metadata": {},
   "outputs": [
    {
     "data": {
      "text/plain": [
       "'Negative'"
      ]
     },
     "execution_count": 46,
     "metadata": {},
     "output_type": "execute_result"
    }
   ],
   "source": [
    "raw_test(review_2, loaded_model, loaded_vect)"
   ]
  },
  {
   "cell_type": "code",
   "execution_count": null,
   "id": "b5c5b4c5",
   "metadata": {},
   "outputs": [],
   "source": []
  }
 ],
 "metadata": {
  "kernelspec": {
   "display_name": "Python 3 (ipykernel)",
   "language": "python",
   "name": "python3"
  },
  "language_info": {
   "codemirror_mode": {
    "name": "ipython",
    "version": 3
   },
   "file_extension": ".py",
   "mimetype": "text/x-python",
   "name": "python",
   "nbconvert_exporter": "python",
   "pygments_lexer": "ipython3",
   "version": "3.9.12"
  }
 },
 "nbformat": 4,
 "nbformat_minor": 5
}
